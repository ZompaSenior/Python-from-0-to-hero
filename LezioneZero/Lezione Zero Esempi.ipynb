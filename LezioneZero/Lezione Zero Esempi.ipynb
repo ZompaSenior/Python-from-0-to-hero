{
 "cells": [
  {
   "cell_type": "markdown",
   "metadata": {},
   "source": []
  },
  {
   "cell_type": "code",
   "execution_count": null,
   "metadata": {},
   "outputs": [],
   "source": [
    "#-*- coding: cp1252 -*-\n",
    "# Calcolatrice\n",
    "\n",
    "# Chiedo il primo numero\n",
    "testo = input('Immetti un numero: ')\n",
    "# trasformo il testo inserito in un numero inero\n",
    "primo = int(testo)\n",
    "\n",
    "# Chiedo il secodo numero\n",
    "testo = input('Immetti un altro numero: ')\n",
    "# trasformo il testo inserito in un numero intero\n",
    "secondo = int(testo)\n",
    "\n",
    "operazione = input('Che operazione desideri?\\n1.Somma\\n2.Sottrazione\\n3.Moltiplicazione\\n4.Divisione\\n')\n",
    "\n",
    "operazione = int(operazione)\n",
    "\n",
    "if(operazione == 1):\n",
    "    risultato = primo + secondo\n",
    "elif(operazione == 2):\n",
    "    risultato = primo - secondo\n",
    "elif(operazione == 3):\n",
    "    risultato = primo * secondo\n",
    "elif(operazione == 4):\n",
    "    risultato = primo / secondo\n",
    "else:\n",
    "    operazione = 0\n",
    "    # Messaggio d'errore\n",
    "    print('\\nSelezionare un operazione valida!\\n')\n",
    "\n",
    "# Scrivo il risultato\n",
    "print(f\"Il risultato e': {risultato}\")"
   ]
  },
  {
   "cell_type": "code",
   "execution_count": null,
   "metadata": {},
   "outputs": [],
   "source": [
    "#-*- coding: cp1252 -*-\n",
    "frase = input('Inserire una frase: ')\n",
    "\n",
    "parole = frase.split()\n",
    "#parole = frase.split(' ')\n",
    "\n",
    "conteggio = len(parole)\n",
    "\n",
    "print(f'Nella frase \"{frase}\" ci sono {conteggio}} parole.')\n",
    "\n",
    "numero = 1\n",
    "for parola in parole:\n",
    "    print( f'{numero}. {parola}')\n",
    "    numero += 1\n",
    "\n",
    "print('fine')"
   ]
  }
 ],
 "metadata": {
  "kernelspec": {
   "display_name": "Python 3",
   "language": "python",
   "name": "python3"
  },
  "language_info": {
   "codemirror_mode": {
    "name": "ipython",
    "version": 3
   },
   "file_extension": ".py",
   "mimetype": "text/x-python",
   "name": "python",
   "nbconvert_exporter": "python",
   "pygments_lexer": "ipython3",
   "version": "3.6.2"
  }
 },
 "nbformat": 4,
 "nbformat_minor": 2
}
